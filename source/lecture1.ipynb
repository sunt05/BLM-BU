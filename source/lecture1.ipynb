{
 "cells": [
  {
   "cell_type": "markdown",
   "metadata": {},
   "source": [
    "## Mean velocity profile "
   ]
  },
  {
   "cell_type": "markdown",
   "metadata": {},
   "source": [
    "### one section"
   ]
  },
  {
   "cell_type": "markdown",
   "metadata": {},
   "source": [
    " Wyngaard: Turbulence in the atmosphere (Chapter 10)\n",
    "\n",
    " Garratt: The atmospheric boundary layer (Chapter 3.1, 3.3)\n",
    "\n",
    "\n",
    "\n"
   ]
  },
  {
   "cell_type": "markdown",
   "metadata": {},
   "source": [
    "![law of wall](figs/law-of-wall.png)"
   ]
  },
  {
   "cell_type": "markdown",
   "metadata": {},
   "source": [
    "this is an inline equation $y^{+}=y \\frac{u^{*}}{v}$\n"
   ]
  },
  {
   "cell_type": "markdown",
   "metadata": {},
   "source": [
    "\n",
    "an equation in display form:\n",
    "\n",
    "$$\n",
    "\\begin{equation}\n",
    "\\int\\limits_{-\\infty}^\\infty f(x) \\delta(x - x_0) dx = f(x_0)\n",
    "\\end{equation}\n",
    "$$"
   ]
  },
  {
   "cell_type": "markdown",
   "metadata": {},
   "source": [
    "### new section"
   ]
  },
  {
   "cell_type": "markdown",
   "metadata": {},
   "source": [
    "some more text in another section\n"
   ]
  },
  {
   "cell_type": "markdown",
   "metadata": {},
   "source": []
  }
 ],
 "metadata": {
  "language_info": {
   "name": "python"
  },
  "orig_nbformat": 4
 },
 "nbformat": 4,
 "nbformat_minor": 2
}
